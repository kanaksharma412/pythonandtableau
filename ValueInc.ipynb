{
 "cells": [
  {
   "cell_type": "code",
   "execution_count": 101,
   "metadata": {},
   "outputs": [],
   "source": [
    "import pandas as pd"
   ]
  },
  {
   "cell_type": "code",
   "execution_count": 102,
   "metadata": {},
   "outputs": [],
   "source": [
    "#Bringing in the data\n",
    "data = pd.read_csv('transaction2.csv', sep=';')"
   ]
  },
  {
   "cell_type": "code",
   "execution_count": 103,
   "metadata": {},
   "outputs": [
    {
     "name": "stdout",
     "output_type": "stream",
     "text": [
      "<class 'pandas.core.frame.DataFrame'>\n",
      "RangeIndex: 1047588 entries, 0 to 1047587\n",
      "Data columns (total 13 columns):\n",
      " #   Column                  Non-Null Count    Dtype  \n",
      "---  ------                  --------------    -----  \n",
      " 0   UserId                  1047588 non-null  int64  \n",
      " 1   TransactionId           1047588 non-null  int64  \n",
      " 2   Year                    1047588 non-null  int64  \n",
      " 3   Month                   1047588 non-null  object \n",
      " 4   Day                     1047588 non-null  int64  \n",
      " 5   Time                    1047588 non-null  object \n",
      " 6   ItemCode                1047588 non-null  int64  \n",
      " 7   ItemDescription         1044797 non-null  object \n",
      " 8   NumberOfItemsPurchased  1047588 non-null  int64  \n",
      " 9   CostPerItem             1047588 non-null  float64\n",
      " 10  SellingPricePerItem     1047588 non-null  float64\n",
      " 11  Country                 1047588 non-null  object \n",
      " 12  ClientKeywords          1047588 non-null  object \n",
      "dtypes: float64(2), int64(6), object(5)\n",
      "memory usage: 103.9+ MB\n"
     ]
    }
   ],
   "source": [
    "#Summary of the data set\n",
    "data.info()"
   ]
  },
  {
   "cell_type": "code",
   "execution_count": 104,
   "metadata": {},
   "outputs": [],
   "source": [
    "#Adding the new ProfitPerItem, CostPerTransaction, SellingPricePerTransaction and Markup fields\n",
    "data['ProfitPerTransaction'] = data['NumberOfItemsPurchased']*(data['SellingPricePerItem'] - data['CostPerItem'])\n",
    "\n",
    "data['CostPerTransaction'] = data['NumberOfItemsPurchased']*data['CostPerItem']\n",
    "\n",
    "data['SellingPricePerTransaction'] = data['NumberOfItemsPurchased']*data['SellingPricePerItem']\n",
    "\n",
    "data['Markup'] = round((data['SellingPricePerTransaction'] - data['CostPerTransaction']) / data['CostPerTransaction'], 2)"
   ]
  },
  {
   "cell_type": "code",
   "execution_count": 105,
   "metadata": {},
   "outputs": [
    {
     "data": {
      "text/plain": [
       "0          0.8\n",
       "1          0.1\n",
       "2          0.8\n",
       "3          0.1\n",
       "4          0.7\n",
       "          ... \n",
       "1047583    0.6\n",
       "1047584    0.1\n",
       "1047585    0.1\n",
       "1047586    0.8\n",
       "1047587    0.8\n",
       "Name: Markup, Length: 1047588, dtype: float64"
      ]
     },
     "execution_count": 105,
     "metadata": {},
     "output_type": "execute_result"
    }
   ],
   "source": [
    "data['Markup']"
   ]
  },
  {
   "cell_type": "code",
   "execution_count": 106,
   "metadata": {},
   "outputs": [],
   "source": [
    "#Combining the year, month and day fields to create a single field. \n",
    "data['date'] = data['Day'].astype(str) + '-' + data['Month'] + '-' + data['Year'].astype(str)"
   ]
  },
  {
   "cell_type": "code",
   "execution_count": 107,
   "metadata": {},
   "outputs": [
    {
     "data": {
      "text/plain": [
       "0           2-Feb-2019\n",
       "1          26-Dec-2018\n",
       "2          15-Feb-2019\n",
       "3          22-Jun-2018\n",
       "4          10-Sep-2018\n",
       "              ...     \n",
       "1047583    16-Feb-2019\n",
       "1047584    15-Jan-2019\n",
       "1047585     8-Sep-2018\n",
       "1047586    20-Jul-2018\n",
       "1047587    10-Oct-2018\n",
       "Name: date, Length: 1047588, dtype: object"
      ]
     },
     "execution_count": 107,
     "metadata": {},
     "output_type": "execute_result"
    }
   ],
   "source": [
    "data['date']"
   ]
  },
  {
   "cell_type": "code",
   "execution_count": 108,
   "metadata": {},
   "outputs": [],
   "source": [
    "#Splitting the ClientKeywords field and creating 3 new fields(ClientAge, ClientType, LengthOfContract).\n",
    "split_col = data['ClientKeywords'].str.split(',', expand = True)\n",
    "data['ClientAge'] = split_col[0].str.replace('[', '')\n",
    "data['ClientType'] = split_col[1]\n",
    "data['LengthOfContract'] = split_col[2].str.replace(']', '')"
   ]
  },
  {
   "cell_type": "code",
   "execution_count": 109,
   "metadata": {},
   "outputs": [],
   "source": [
    "#lowecase ItemDescription         \n",
    "data['ItemDescription'] = data['ItemDescription'].str.lower()"
   ]
  },
  {
   "cell_type": "code",
   "execution_count": 110,
   "metadata": {},
   "outputs": [],
   "source": [
    "# Bringing in the seasons data\n",
    "seasons = pd.read_csv('value_inc_seasons.csv', sep = ';')"
   ]
  },
  {
   "cell_type": "code",
   "execution_count": 111,
   "metadata": {},
   "outputs": [],
   "source": [
    "#Merging the two dataframes\n",
    "data = pd.merge(data, seasons, on = 'Month')"
   ]
  },
  {
   "cell_type": "code",
   "execution_count": 112,
   "metadata": {},
   "outputs": [],
   "source": [
    "#Dropping fields \n",
    "data = data.drop(['ClientKeywords', 'Year', 'Month', 'Day'], axis = 1)"
   ]
  },
  {
   "cell_type": "code",
   "execution_count": 113,
   "metadata": {},
   "outputs": [],
   "source": [
    "#Export to csv\n",
    "data.to_csv('ValueInc_Cleaned.csv', index = False)"
   ]
  },
  {
   "cell_type": "code",
   "execution_count": null,
   "metadata": {},
   "outputs": [],
   "source": []
  }
 ],
 "metadata": {
  "kernelspec": {
   "display_name": "Python 3",
   "language": "python",
   "name": "python3"
  },
  "language_info": {
   "codemirror_mode": {
    "name": "ipython",
    "version": 3
   },
   "file_extension": ".py",
   "mimetype": "text/x-python",
   "name": "python",
   "nbconvert_exporter": "python",
   "pygments_lexer": "ipython3",
   "version": "3.8.5"
  }
 },
 "nbformat": 4,
 "nbformat_minor": 4
}
